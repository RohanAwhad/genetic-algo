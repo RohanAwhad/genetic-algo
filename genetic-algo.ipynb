{
 "cells": [
  {
   "cell_type": "markdown",
   "metadata": {},
   "source": [
    "# Genetic Algorithm"
   ]
  },
  {
   "cell_type": "markdown",
   "metadata": {},
   "source": [
    "    In this example we try to predict a phrase by checking of min possible combinations\n",
    "    Agent does not know what is the phrase\n",
    "    Its just like hollywood that we play or used to play"
   ]
  },
  {
   "cell_type": "code",
   "execution_count": 1,
   "metadata": {},
   "outputs": [],
   "source": [
    "import string\n",
    "import random\n"
   ]
  },
  {
   "cell_type": "markdown",
   "metadata": {},
   "source": [
    "    List of all possible choices from which the output can be formed"
   ]
  },
  {
   "cell_type": "code",
   "execution_count": 2,
   "metadata": {},
   "outputs": [],
   "source": [
    "choices = list(string.ascii_letters)\n",
    "choices.append(' ')\n",
    "choices.append('.')\n"
   ]
  },
  {
   "cell_type": "code",
   "execution_count": 3,
   "metadata": {},
   "outputs": [],
   "source": [
    "# this is no of agents in one generation\n",
    "population = 1000\n",
    "# this is the probability of changing DNA of a every child\n",
    "mutation_rate = 2"
   ]
  },
  {
   "cell_type": "code",
   "execution_count": 4,
   "metadata": {},
   "outputs": [
    {
     "name": "stdout",
     "output_type": "stream",
     "text": [
      "Enter any phrase: I Am IrOn MAN.\n"
     ]
    }
   ],
   "source": [
    "s = input(\"Enter any phrase: \")\n",
    "n = len(s)"
   ]
  },
  {
   "cell_type": "markdown",
   "metadata": {},
   "source": [
    "     In initial population function we generate first generation of population\n",
    "     by randomly selecting different characters from choices list"
   ]
  },
  {
   "cell_type": "code",
   "execution_count": 5,
   "metadata": {},
   "outputs": [],
   "source": [
    "def initial_population():\n",
    "\tagents = []\n",
    "\tfor i in range(population):\t\n",
    "\t\ttemp = ''\n",
    "\t\tfor _ in range(n):\n",
    "\t\t\ttemp += random.choice(choices)\n",
    "\t\tagents.append(temp)\n",
    "\t\t\n",
    "\treturn agents"
   ]
  },
  {
   "cell_type": "markdown",
   "metadata": {},
   "source": [
    "    Here I checked how many chars match and square of that is the fitness of that agent"
   ]
  },
  {
   "cell_type": "code",
   "execution_count": 6,
   "metadata": {},
   "outputs": [],
   "source": [
    "def calculate_fitness(agents):\n",
    "\t#if not agents: initial_population()\n",
    "\tfitness = []\n",
    "\tfor i in range(population):\n",
    "\t\tcorrectness = 0\n",
    "\t\tfor j in range(n):\n",
    "\t\t\tif agents[i][j] == s[j]: correctness += 1\n",
    "\t\tfitness.append([agents[i], correctness**2])\n",
    "\t#print(type(fitness[0][0]))\n",
    "\treturn fitness"
   ]
  },
  {
   "cell_type": "markdown",
   "metadata": {},
   "source": [
    "    In this function we get mating pool based on the following factors\n",
    "    probability = fitness / (Summation of fitness of all agents)\n",
    "\n",
    "                           For Mating Pool\n",
    "    I multiplied each agents probability by 10000 and type casted to int to get number in non decimal format\n",
    "    This number is how many times that agent will be added in the mating pool\n",
    "    This way we could select agents for being parents on the basis of probabilities\n",
    "\n",
    "    here we shuffle bucket because while adding agents they were in sequential order\n",
    "    and we want to randomize it and select only on the basis of fitness probabilities"
   ]
  },
  {
   "cell_type": "code",
   "execution_count": 7,
   "metadata": {},
   "outputs": [],
   "source": [
    "def calculate_probability(fitness):\n",
    "\ttotal_sum = 0\n",
    "\tbucket = []\n",
    "\tfor i in range(len(fitness)):\n",
    "\t\ttotal_sum += fitness[i][1]\n",
    "\t#probability of each agent\n",
    "\tfor i in range(len(fitness)):\n",
    "\t\tp = (fitness[i][1]/total_sum) * 10000\n",
    "\t\tbucket.extend([fitness[i][0] for _ in range(int(p))])\n",
    "\t\t\n",
    "\t#shuffle bucket\n",
    "\trandom.shuffle(bucket)         \n",
    "\t\n",
    "\treturn bucket"
   ]
  },
  {
   "cell_type": "markdown",
   "metadata": {},
   "source": [
    "        In this we take child agents phrase and then based on mutation rate we change a random char \n",
    "        to any other char from the choices list"
   ]
  },
  {
   "cell_type": "code",
   "execution_count": 8,
   "metadata": {},
   "outputs": [],
   "source": [
    "def mutate(child):\n",
    "\ttemp = ''\n",
    "\tfor i in range(n):\n",
    "\t\tif random.randint(1,100) <= mutation_rate:\n",
    "\t\t\ttemp += random.choice(choices)\n",
    "\t\telse: temp += child[i]\n",
    "\t\t\n",
    "\treturn temp"
   ]
  },
  {
   "cell_type": "markdown",
   "metadata": {},
   "source": [
    "    In this function \n",
    "        1. We select 2 parents randomly from the mating pool\n",
    "        2. Perform a crossover by selecting randomly each char from both agents phrase\n",
    "        3. And then we mutate child phrase"
   ]
  },
  {
   "cell_type": "code",
   "execution_count": 9,
   "metadata": {},
   "outputs": [],
   "source": [
    "def mate(bucket):\n",
    "\tchilds = []\n",
    "\tfor _ in range(population):\n",
    "\t\tparents_array = []\n",
    "\t\tfor x in range(2):\n",
    "\t\t\tparents_array.append(bucket[random.randint(0,len(bucket)-1)])\n",
    "\t\t#print(parents_array)\n",
    "\t\ti = 0\n",
    "\t\ttemp = ''\n",
    "\t\twhile i < n:\n",
    "\t\t\tt = random.randint(0,1)\n",
    "\t\t\t#print(type(parents_array[t]))\n",
    "\t\t\ttemp += parents_array[t][i]\n",
    "\t\t\ti += 1 \n",
    "\t\ttemp = mutate(temp)\n",
    "\t\tchilds.append(temp)\n",
    "\t\t\n",
    "\treturn childs"
   ]
  },
  {
   "cell_type": "markdown",
   "metadata": {},
   "source": [
    "    Here we check if we have found the right phrase by checking if fitness value = (len of phrase) ^ 2"
   ]
  },
  {
   "cell_type": "code",
   "execution_count": 10,
   "metadata": {},
   "outputs": [],
   "source": [
    "def check(fitness):\n",
    "\tfor i in range(len(fitness)):\n",
    "\t\tif fitness[i][1] == n**2: return i\n",
    "\t\t\n",
    "\treturn -1\n"
   ]
  },
  {
   "cell_type": "code",
   "execution_count": 11,
   "metadata": {},
   "outputs": [],
   "source": [
    "def main():\n",
    "\tgenerations = 0\t\n",
    "\tagents = []\t\n",
    "\twhile True:\t\n",
    "\t\tif not agents: agents = initial_population()           # Get initial population (First Generation)\n",
    "\t\tfitness = calculate_fitness(agents)                    # Calculate fitness\n",
    "\t\tindex = check(fitness)                                 # check if we have found the right phrase\n",
    "\t\tif index != -1: \n",
    "\t\t\tprint('Your phrase was \\\"'+fitness[index][0]+'\\\"') \n",
    "\t\t\tbreak\n",
    "\t\t\t\n",
    "\t\telse:\n",
    "\t\t\tmating_pool = calculate_probability(fitness)       # Get Mating pool\n",
    "\t\t\tagents = mate(mating_pool)                         # Get next generation populations of agents\n",
    "\t\t\tprint('Generation:',generations)\n",
    "\t\t\tgenerations += 1\n",
    "\t\t"
   ]
  },
  {
   "cell_type": "code",
   "execution_count": 12,
   "metadata": {},
   "outputs": [
    {
     "name": "stdout",
     "output_type": "stream",
     "text": [
      "Generation: 0\n",
      "Generation: 1\n",
      "Generation: 2\n",
      "Generation: 3\n",
      "Generation: 4\n",
      "Generation: 5\n",
      "Generation: 6\n",
      "Generation: 7\n",
      "Generation: 8\n",
      "Generation: 9\n",
      "Your phrase was \"I Am IrOn MAN.\"\n"
     ]
    }
   ],
   "source": [
    "main()"
   ]
  },
  {
   "cell_type": "code",
   "execution_count": null,
   "metadata": {},
   "outputs": [],
   "source": []
  }
 ],
 "metadata": {
  "kernelspec": {
   "display_name": "Python 3",
   "language": "python",
   "name": "python3"
  },
  "language_info": {
   "codemirror_mode": {
    "name": "ipython",
    "version": 3
   },
   "file_extension": ".py",
   "mimetype": "text/x-python",
   "name": "python",
   "nbconvert_exporter": "python",
   "pygments_lexer": "ipython3",
   "version": "3.6.8"
  }
 },
 "nbformat": 4,
 "nbformat_minor": 2
}
